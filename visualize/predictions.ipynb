{
 "cells": [
  {
   "cell_type": "markdown",
   "metadata": {},
   "source": [
    "# Example: Visualizing Output\n",
    "\n",
    "Copyright © Scott Workman. 2025."
   ]
  },
  {
   "cell_type": "code",
   "execution_count": null,
   "metadata": {},
   "outputs": [],
   "source": [
    "import _init_paths"
   ]
  },
  {
   "cell_type": "code",
   "execution_count": null,
   "metadata": {},
   "outputs": [],
   "source": [
    "import torch\n",
    "\n",
    "import cvd\n",
    "from data import HCODataset, HCOPreDataset\n",
    "\n",
    "import imageio\n",
    "import numpy as np\n",
    "from matplotlib import pyplot as plt\n",
    "\n",
    "%matplotlib inline"
   ]
  },
  {
   "cell_type": "markdown",
   "metadata": {},
   "source": [
    "### Visualize output"
   ]
  },
  {
   "cell_type": "code",
   "execution_count": null,
   "metadata": {},
   "outputs": [],
   "source": [
    "method = \"refine_fuse\"\n",
    "assert method in [\"refine_base\", \"refine_fuse\", \"ground\"], \"Invalid method\"\n",
    "\n",
    "base_dir = \"../logs/{}/\".format(method)\n",
    "\n",
    "device = torch.device(\"cuda:0\" if torch.cuda.is_available() else \"cpu\")\n",
    "\n",
    "model = cvd.CVD.load_from_checkpoint('{}lightning_logs/version_0/checkpoints/last.ckpt'.format(base_dir))\n",
    "model.to(device).float()\n",
    "model.eval()\n",
    "\n",
    "print()"
   ]
  },
  {
   "cell_type": "code",
   "execution_count": null,
   "metadata": {},
   "outputs": [],
   "source": [
    "dataset = HCOPreDataset('val', zoom=16)\n",
    "\n",
    "inds = np.random.randint(len(dataset), size=5)\n",
    "\n",
    "for ind in inds:\n",
    "  inputs, targets = dataset[ind]\n",
    "  im_ground, im_context = inputs\n",
    "  label_ground, valid_ground, _, _ = targets\n",
    "\n",
    "  _, output = model([x.to(device).unsqueeze(0) for x in inputs])\n",
    "\n",
    "  output = output.squeeze().detach().cpu().numpy()\n",
    "\n",
    "  t2n = lambda x: x.cpu().numpy()\n",
    "  label_ground = t2n(label_ground)\n",
    "  valid_ground = t2n(valid_ground)\n",
    "  im_ground = t2n(im_ground).transpose(1,2,0)\n",
    "\n",
    "  output[valid_ground == 0] = 1\n",
    "  label_ground[valid_ground == 0] = 1\n",
    "\n",
    "  print(np.quantile(label_ground, [.2,.98]), np.quantile(output, [.2,.98]))\n",
    "\n",
    "  plt.figure(figsize=(10,10))\n",
    "  plt.subplot(131)\n",
    "  plt.imshow(im_ground)\n",
    "  plt.axis('off')\n",
    "  plt.subplot(132)\n",
    "  plt.imshow(label_ground, 'gray_r', vmin=0)\n",
    "  plt.axis('off')\n",
    "  plt.subplot(133)\n",
    "  plt.imshow(output, 'gray_r', vmin=0, vmax=label_ground.max())\n",
    "  plt.axis('off')\n",
    "\n",
    "  plt.show()"
   ]
  },
  {
   "cell_type": "markdown",
   "metadata": {},
   "source": [
    "### Visualize output (estimating heights)"
   ]
  },
  {
   "cell_type": "code",
   "execution_count": null,
   "metadata": {},
   "outputs": [],
   "source": [
    "base_dir = \"../logs/refine/\"\n",
    "\n",
    "device = torch.device(\"cuda:0\" if torch.cuda.is_available() else \"cpu\")\n",
    "\n",
    "model = cvd.CVD.load_from_checkpoint('{}lightning_logs/version_0/checkpoints/last.ckpt'.format(base_dir))\n",
    "model.to(device).float()\n",
    "model.eval()\n",
    "\n",
    "print()"
   ]
  },
  {
   "cell_type": "code",
   "execution_count": null,
   "metadata": {},
   "outputs": [],
   "source": [
    "dataset = HCODataset('val', zoom=16)\n",
    "\n",
    "inds = np.random.randint(len(dataset), size=5)\n",
    "\n",
    "for ind in inds:\n",
    "  inputs, targets = dataset[ind]\n",
    "  im_ground, im_overhead, depth_overhead, pano_yaw, tilt_yaw, tilt_pitch, yaw, pitch, gsd = inputs\n",
    "  label_ground, valid_ground, label_overhead, valid_overhead = targets\n",
    "\n",
    "  output_overhead, output = model([x.to(device).unsqueeze(0) for x in inputs])\n",
    "\n",
    "  output = output.squeeze().detach().cpu().numpy()\n",
    "  output_overhead = output_overhead.squeeze().detach().cpu().numpy()\n",
    "\n",
    "  t2n = lambda x: x.cpu().numpy()\n",
    "  im_overhead = t2n(im_overhead.squeeze()).transpose(1,2,0)\n",
    "  label_overhead = t2n(label_overhead)\n",
    "  label_ground = t2n(label_ground)\n",
    "  valid_ground = t2n(valid_ground)\n",
    "  im_ground = t2n(im_ground).transpose(1,2,0)\n",
    "\n",
    "  output[valid_ground == 0] = 1\n",
    "  label_ground[valid_ground == 0] = 1\n",
    "  \n",
    "  output_overhead[valid_overhead ==0] = np.nan\n",
    "\n",
    "  print(np.quantile(label_ground, [.2,.98]), np.quantile(output, [.2,.98]))\n",
    "\n",
    "  plt.figure(figsize=(15,15))\n",
    "  plt.subplot(161)\n",
    "  plt.imshow(im_overhead)\n",
    "  plt.axis('off')\n",
    "  plt.subplot(162)\n",
    "  plt.imshow(label_overhead, vmin=0)\n",
    "  plt.axis('off')\n",
    "  plt.subplot(163)\n",
    "  plt.imshow(output_overhead, vmin=0, vmax=np.nanmax(label_overhead))\n",
    "  plt.axis('off')\n",
    "  plt.subplot(164)\n",
    "  plt.imshow(im_ground)\n",
    "  plt.axis('off')\n",
    "  plt.subplot(165)\n",
    "  plt.imshow(label_ground, 'gray_r', vmin=0)\n",
    "  plt.axis('off')\n",
    "  plt.subplot(166)\n",
    "  plt.imshow(output, 'gray_r', vmin=0, vmax=label_ground.max())\n",
    "  plt.axis('off')\n",
    "\n",
    "  plt.show()"
   ]
  },
  {
   "cell_type": "code",
   "execution_count": null,
   "metadata": {},
   "outputs": [],
   "source": []
  }
 ],
 "metadata": {
  "kernelspec": {
   "display_name": "Python [conda env:geodepth]",
   "language": "python",
   "name": "conda-env-geodepth-py"
  },
  "language_info": {
   "codemirror_mode": {
    "name": "ipython",
    "version": 3
   },
   "file_extension": ".py",
   "mimetype": "text/x-python",
   "name": "python",
   "nbconvert_exporter": "python",
   "pygments_lexer": "ipython3",
   "version": "3.10.16"
  }
 },
 "nbformat": 4,
 "nbformat_minor": 4
}
